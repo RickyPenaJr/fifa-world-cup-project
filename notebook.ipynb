{
 "cells": [
  {
   "cell_type": "markdown",
   "id": "740554a1",
   "metadata": {},
   "source": [
    "# FIFA World Cup Data Analysis\n",
    "\n",
    "Using Pandas, NumPy, and SciPy to extract insights from FIFA World Cup history."
   ]
  },
  {
   "cell_type": "code",
   "execution_count": null,
   "id": "abbe0023",
   "metadata": {},
   "outputs": [],
   "source": [
    "\n",
    "import pandas as pd\n",
    "import numpy as np\n",
    "from scipy import stats\n",
    "import matplotlib.pyplot as plt\n",
    "import seaborn as sns\n",
    "\n",
    "# Load data\n",
    "matches = pd.read_csv(\"data/WorldCupMatches.csv\")\n",
    "tournaments = pd.read_csv(\"data/WorldCups.csv\")\n",
    "\n",
    "# Clean column names\n",
    "matches.columns = matches.columns.str.strip()\n",
    "tournaments.columns = tournaments.columns.str.strip()\n",
    "\n",
    "# Feature Engineering\n",
    "matches['Home Goals'] = matches['Home Team Goals']\n",
    "matches['Away Goals'] = matches['Away Team Goals']\n",
    "matches['Total Goals'] = matches['Home Goals'] + matches['Away Goals']\n",
    "\n",
    "# Team performance summary\n",
    "team_goals = matches.groupby('Home Team Name')['Home Goals'].sum() +              matches.groupby('Away Team Name')['Away Goals'].sum()\n",
    "\n",
    "top_10_teams = team_goals.sort_values(ascending=False).head(10)\n",
    "top_10_teams.plot(kind='bar', figsize=(10, 6), title='Top 10 Teams by Goals Scored')\n",
    "plt.ylabel(\"Total Goals\")\n",
    "plt.tight_layout()\n",
    "plt.show()\n",
    "\n",
    "# Goal trends over the years\n",
    "tournaments['Year'] = tournaments['Year'].astype(int)\n",
    "tournaments['Avg Goals per Match'] = tournaments['GoalsScored'] / tournaments['MatchesPlayed']\n",
    "\n",
    "plt.figure(figsize=(10, 6))\n",
    "sns.lineplot(data=tournaments, x=\"Year\", y=\"Avg Goals per Match\", marker=\"o\")\n",
    "plt.title(\"Average Goals per Match Over World Cups\")\n",
    "plt.ylabel(\"Goals\")\n",
    "plt.grid(True)\n",
    "plt.tight_layout()\n",
    "plt.show()\n",
    "\n",
    "# Hypothesis Test: Did goals per match change pre vs post 2000?\n",
    "pre_2000 = tournaments[tournaments['Year'] < 2000]['Avg Goals per Match']\n",
    "post_2000 = tournaments[tournaments['Year'] >= 2000]['Avg Goals per Match']\n",
    "\n",
    "t_stat, p_val = stats.ttest_ind(pre_2000, post_2000, equal_var=False)\n",
    "\n",
    "print(\"T-test Results:\")\n",
    "print(\"T-statistic =\", round(t_stat, 3))\n",
    "print(\"P-value =\", round(p_val, 3))\n",
    "\n",
    "if p_val < 0.05:\n",
    "    print(\"✅ Statistically significant change in goals per match (pre vs. post 2000).\")\n",
    "else:\n",
    "    print(\"❌ No significant change in goals per match.\")\n"
   ]
  },
  {
   "cell_type": "markdown",
   "id": "8d2e1515",
   "metadata": {},
   "source": [
    "**Note:** Make sure you've added the datasets to the `/data` folder before running the code."
   ]
  }
 ],
 "metadata": {},
 "nbformat": 4,
 "nbformat_minor": 5
}